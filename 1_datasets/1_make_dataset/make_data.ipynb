{
 "cells": [
  {
   "cell_type": "code",
   "execution_count": 1,
   "id": "6ff2f789",
   "metadata": {},
   "outputs": [],
   "source": [
    "import pandas as pd\n",
    "import numpy as np"
   ]
  },
  {
   "cell_type": "markdown",
   "id": "9bee1fe3",
   "metadata": {},
   "source": [
    "### <font color=\"orange\">subフォルダのコードを実行</font>"
   ]
  },
  {
   "cell_type": "code",
   "execution_count": 2,
   "id": "44715455",
   "metadata": {},
   "outputs": [],
   "source": [
    "# 自作関数の呼び出し\n",
    "import sys\n",
    "sys.path.append(\"../../\")    # <- 親フォルダから呼び出すためにpathを追加する。\n",
    "from my_package.excute_notebook import execute_notebook"
   ]
  },
  {
   "cell_type": "code",
   "execution_count": 3,
   "id": "9d9d1817",
   "metadata": {},
   "outputs": [
    {
     "name": "stdout",
     "output_type": "stream",
     "text": [
      "Error during notebook execution:\n",
      "Traceback (most recent call last):\n",
      "  File \"<string>\", line 236, in <module>\n",
      "NameError: name 'data' is not defined\n",
      "\n"
     ]
    }
   ],
   "source": [
    "# 実行したい.ipynbファイルの相対パスを指定\n",
    "notebook_path = '../1_make_dataset/sub/2_feature_enginieering/feature_enginnering.ipynb'\n",
    "\n",
    "# .ipynbファイルを実行\n",
    "execute_notebook(notebook_path)"
   ]
  }
 ],
 "metadata": {
  "kernelspec": {
   "display_name": "Python 3 (ipykernel)",
   "language": "python",
   "name": "python3"
  },
  "language_info": {
   "codemirror_mode": {
    "name": "ipython",
    "version": 3
   },
   "file_extension": ".py",
   "mimetype": "text/x-python",
   "name": "python",
   "nbconvert_exporter": "python",
   "pygments_lexer": "ipython3",
   "version": "3.11.7"
  }
 },
 "nbformat": 4,
 "nbformat_minor": 5
}
