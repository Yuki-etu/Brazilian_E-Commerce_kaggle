{
 "cells": [
  {
   "cell_type": "code",
   "execution_count": 1,
   "metadata": {},
   "outputs": [],
   "source": [
    "import pandas as pd\n",
    "import numpy as np\n",
    "from IPython.display import display"
   ]
  },
  {
   "cell_type": "markdown",
   "id": "c28a1ae7",
   "metadata": {},
   "source": [
    "### <font color=\"orange\">データの読み込み</font>"
   ]
  },
  {
   "cell_type": "code",
   "execution_count": 2,
   "id": "a39a3e50",
   "metadata": {},
   "outputs": [
    {
     "name": "stdout",
     "output_type": "stream",
     "text": [
      "既に解凍されたフォルダが存在します。\n"
     ]
    }
   ],
   "source": [
    "import zipfile\n",
    "import os\n",
    "# 解凍したいzipファイルのパス\n",
    "zip_file_path = '../../../../0_original_datasets/datasets.zip'\n",
    "\n",
    "# 解凍先のディレクトリ\n",
    "folder_path = '../../../tmp_data_folder/0_tmp_original_data/'\n",
    "\n",
    "if os.path.exists(folder_path):\n",
    "    print(\"既に解凍されたフォルダが存在します。\")\n",
    "    pass\n",
    "else:\n",
    "    # Zipファイルを開いて解凍する\n",
    "    with zipfile.ZipFile(zip_file_path, 'r') as zip_ref:\n",
    "        zip_ref.extractall(folder_path)\n",
    "\n",
    "    print(f'{zip_file_path} を {folder_path} に解凍しました。')"
   ]
  },
  {
   "cell_type": "code",
   "execution_count": 3,
   "id": "8e735af4",
   "metadata": {},
   "outputs": [],
   "source": [
    "olist_order_reviews_dataset = pd.read_csv(\"../../../tmp_data_folder/0_tmp_original_data/datasets/olist_order_reviews_dataset.csv\",\n",
    "                                          dtype={'review_comment_title': 'str'})"
   ]
  },
  {
   "cell_type": "markdown",
   "id": "926f06cf",
   "metadata": {},
   "source": [
    "### <font color=\"orange\">データの確認</font>"
   ]
  },
  {
   "cell_type": "code",
   "execution_count": 4,
   "id": "042c340d",
   "metadata": {},
   "outputs": [
    {
     "data": {
      "text/plain": [
       "551"
      ]
     },
     "execution_count": 4,
     "metadata": {},
     "output_type": "execute_result"
    }
   ],
   "source": [
    "olist_order_reviews_dataset[olist_order_reviews_dataset.duplicated(subset=\"order_id\", keep=\"first\")].shape[0]\n",
    "#* order_idで551件の重複有り。"
   ]
  },
  {
   "cell_type": "code",
   "execution_count": 5,
   "id": "a2d0247f",
   "metadata": {},
   "outputs": [
    {
     "data": {
      "text/html": [
       "<div>\n",
       "<style scoped>\n",
       "    .dataframe tbody tr th:only-of-type {\n",
       "        vertical-align: middle;\n",
       "    }\n",
       "\n",
       "    .dataframe tbody tr th {\n",
       "        vertical-align: top;\n",
       "    }\n",
       "\n",
       "    .dataframe thead th {\n",
       "        text-align: right;\n",
       "    }\n",
       "</style>\n",
       "<table border=\"1\" class=\"dataframe\">\n",
       "  <thead>\n",
       "    <tr style=\"text-align: right;\">\n",
       "      <th></th>\n",
       "      <th>review_id</th>\n",
       "      <th>order_id</th>\n",
       "      <th>review_score</th>\n",
       "      <th>review_comment_title</th>\n",
       "      <th>review_comment_message</th>\n",
       "      <th>review_creation_date</th>\n",
       "      <th>review_answer_timestamp</th>\n",
       "    </tr>\n",
       "  </thead>\n",
       "  <tbody>\n",
       "    <tr>\n",
       "      <th>22423</th>\n",
       "      <td>2a74b0559eb58fc1ff842ecc999594cb</td>\n",
       "      <td>0035246a40f520710769010f752e7507</td>\n",
       "      <td>5</td>\n",
       "      <td>NaN</td>\n",
       "      <td>Estou acostumada a comprar produtos pelo barat...</td>\n",
       "      <td>2017-08-25 00:00:00</td>\n",
       "      <td>2017-08-29 21:45:57</td>\n",
       "    </tr>\n",
       "    <tr>\n",
       "      <th>25612</th>\n",
       "      <td>89a02c45c340aeeb1354a24e7d4b2c1e</td>\n",
       "      <td>0035246a40f520710769010f752e7507</td>\n",
       "      <td>5</td>\n",
       "      <td>NaN</td>\n",
       "      <td>NaN</td>\n",
       "      <td>2017-08-29 00:00:00</td>\n",
       "      <td>2017-08-30 01:59:12</td>\n",
       "    </tr>\n",
       "    <tr>\n",
       "      <th>22779</th>\n",
       "      <td>ab30810c29da5da8045216f0f62652a2</td>\n",
       "      <td>013056cfe49763c6f66bda03396c5ee3</td>\n",
       "      <td>5</td>\n",
       "      <td>NaN</td>\n",
       "      <td>NaN</td>\n",
       "      <td>2018-02-22 00:00:00</td>\n",
       "      <td>2018-02-23 12:12:30</td>\n",
       "    </tr>\n",
       "    <tr>\n",
       "      <th>68633</th>\n",
       "      <td>73413b847f63e02bc752b364f6d05ee9</td>\n",
       "      <td>013056cfe49763c6f66bda03396c5ee3</td>\n",
       "      <td>4</td>\n",
       "      <td>NaN</td>\n",
       "      <td>NaN</td>\n",
       "      <td>2018-03-04 00:00:00</td>\n",
       "      <td>2018-03-05 17:02:00</td>\n",
       "    </tr>\n",
       "    <tr>\n",
       "      <th>854</th>\n",
       "      <td>830636803620cdf8b6ffaf1b2f6e92b2</td>\n",
       "      <td>0176a6846bcb3b0d3aa3116a9a768597</td>\n",
       "      <td>5</td>\n",
       "      <td>NaN</td>\n",
       "      <td>NaN</td>\n",
       "      <td>2017-12-30 00:00:00</td>\n",
       "      <td>2018-01-02 10:54:06</td>\n",
       "    </tr>\n",
       "    <tr>\n",
       "      <th>83224</th>\n",
       "      <td>d8e8c42271c8fb67b9dad95d98c8ff80</td>\n",
       "      <td>0176a6846bcb3b0d3aa3116a9a768597</td>\n",
       "      <td>5</td>\n",
       "      <td>NaN</td>\n",
       "      <td>NaN</td>\n",
       "      <td>2017-12-30 00:00:00</td>\n",
       "      <td>2018-01-02 10:54:47</td>\n",
       "    </tr>\n",
       "  </tbody>\n",
       "</table>\n",
       "</div>"
      ],
      "text/plain": [
       "                              review_id                          order_id  \\\n",
       "22423  2a74b0559eb58fc1ff842ecc999594cb  0035246a40f520710769010f752e7507   \n",
       "25612  89a02c45c340aeeb1354a24e7d4b2c1e  0035246a40f520710769010f752e7507   \n",
       "22779  ab30810c29da5da8045216f0f62652a2  013056cfe49763c6f66bda03396c5ee3   \n",
       "68633  73413b847f63e02bc752b364f6d05ee9  013056cfe49763c6f66bda03396c5ee3   \n",
       "854    830636803620cdf8b6ffaf1b2f6e92b2  0176a6846bcb3b0d3aa3116a9a768597   \n",
       "83224  d8e8c42271c8fb67b9dad95d98c8ff80  0176a6846bcb3b0d3aa3116a9a768597   \n",
       "\n",
       "       review_score review_comment_title  \\\n",
       "22423             5                  NaN   \n",
       "25612             5                  NaN   \n",
       "22779             5                  NaN   \n",
       "68633             4                  NaN   \n",
       "854               5                  NaN   \n",
       "83224             5                  NaN   \n",
       "\n",
       "                                  review_comment_message review_creation_date  \\\n",
       "22423  Estou acostumada a comprar produtos pelo barat...  2017-08-25 00:00:00   \n",
       "25612                                                NaN  2017-08-29 00:00:00   \n",
       "22779                                                NaN  2018-02-22 00:00:00   \n",
       "68633                                                NaN  2018-03-04 00:00:00   \n",
       "854                                                  NaN  2017-12-30 00:00:00   \n",
       "83224                                                NaN  2017-12-30 00:00:00   \n",
       "\n",
       "      review_answer_timestamp  \n",
       "22423     2017-08-29 21:45:57  \n",
       "25612     2017-08-30 01:59:12  \n",
       "22779     2018-02-23 12:12:30  \n",
       "68633     2018-03-05 17:02:00  \n",
       "854       2018-01-02 10:54:06  \n",
       "83224     2018-01-02 10:54:47  "
      ]
     },
     "execution_count": 5,
     "metadata": {},
     "output_type": "execute_result"
    }
   ],
   "source": [
    "olist_order_reviews_dataset[olist_order_reviews_dataset.duplicated(subset=\"order_id\", keep=False)].sort_values(by=[\"order_id\", \"review_answer_timestamp\"]).head(6)\n",
    "\n",
    "#* ユニークなorder_idに対し、review_idが複数存在するものがある。\n",
    "#* 本来主キーであるorder_id１件につき、レビュー１件である。\n",
    "#* レビューの更新等が考えられるため（仮説）、review_answer_timestampが最新のものを採択する。"
   ]
  },
  {
   "cell_type": "markdown",
   "id": "e29bd7d4",
   "metadata": {},
   "source": [
    "### <font color=\"orange\">order_idが重複する場合、タイムスタンプが最新のデータのみを抽出。</font>"
   ]
  },
  {
   "cell_type": "code",
   "execution_count": 6,
   "id": "3c2c7d58",
   "metadata": {},
   "outputs": [],
   "source": [
    "unique_olist_review_dataset = olist_order_reviews_dataset.copy()\n",
    "unique_olist_review_dataset[\"review_answer_timestamp\"] = pd.to_datetime(unique_olist_review_dataset[\"review_answer_timestamp\"])\n",
    "unique_olist_review_dataset = unique_olist_review_dataset.sort_values(by=\"review_answer_timestamp\", ascending=False).drop_duplicates(\"order_id\")"
   ]
  },
  {
   "cell_type": "code",
   "execution_count": 7,
   "id": "41185522",
   "metadata": {},
   "outputs": [
    {
     "data": {
      "text/plain": [
       "0"
      ]
     },
     "execution_count": 7,
     "metadata": {},
     "output_type": "execute_result"
    }
   ],
   "source": [
    "# 確認\n",
    "unique_olist_review_dataset[unique_olist_review_dataset.duplicated(subset=\"order_id\", keep=False)].sort_values(by=[\"order_id\", \"review_answer_timestamp\"]).shape[0]"
   ]
  },
  {
   "cell_type": "markdown",
   "id": "e2d27eae",
   "metadata": {},
   "source": [
    "### <font color=\"orange\">データの保存</font>"
   ]
  },
  {
   "cell_type": "code",
   "execution_count": 8,
   "id": "b489885d",
   "metadata": {},
   "outputs": [
    {
     "name": "stdout",
     "output_type": "stream",
     "text": [
      "フォルダ ../../../tmp_data_folder/1_custom_data/ は既に存在します。\n",
      "../tmp/にunique_olist_review_dataset.csvを保存しました。\n"
     ]
    }
   ],
   "source": [
    "import os\n",
    "\n",
    "save_path = \"../../../tmp_data_folder/1_custom_data/\"\n",
    "\n",
    "# フォルダが存在しない場合に作成\n",
    "if not os.path.exists(save_path):\n",
    "    os.makedirs(save_path)\n",
    "    print(f'フォルダ {save_path} を作成しました。')\n",
    "else:\n",
    "    print(f'フォルダ {save_path} は既に存在します。')\n",
    "    \n",
    "unique_olist_review_dataset.to_csv(\"../../../tmp_data_folder/1_custom_data/unique_olist_review_dataset.csv\", index=False)\n",
    "print(\"../tmp/にunique_olist_review_dataset.csvを保存しました。\")"
   ]
  }
 ],
 "metadata": {
  "kernelspec": {
   "display_name": "Python 3 (ipykernel)",
   "language": "python",
   "name": "python3"
  },
  "language_info": {
   "codemirror_mode": {
    "name": "ipython",
    "version": 3
   },
   "file_extension": ".py",
   "mimetype": "text/x-python",
   "name": "python",
   "nbconvert_exporter": "python",
   "pygments_lexer": "ipython3",
   "version": "3.11.8"
  }
 },
 "nbformat": 4,
 "nbformat_minor": 5
}
