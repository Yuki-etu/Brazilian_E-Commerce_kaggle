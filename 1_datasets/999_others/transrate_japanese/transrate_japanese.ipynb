{
 "cells": [
  {
   "cell_type": "markdown",
   "metadata": {},
   "source": [
    "## ポルトガル語表記のレビューを日本語に翻訳する。"
   ]
  },
  {
   "cell_type": "code",
   "execution_count": 2,
   "metadata": {},
   "outputs": [],
   "source": [
    "import os\n",
    "import numpy as np \n",
    "import pandas as pd\n",
    "from googletrans import Translator    # レビューのポルトガル語を日本語に翻訳する。"
   ]
  },
  {
   "cell_type": "code",
   "execution_count": 3,
   "id": "bcc95c8b",
   "metadata": {},
   "outputs": [
    {
     "name": "stdout",
     "output_type": "stream",
     "text": [
      "既に解凍されたフォルダが存在します。\n"
     ]
    }
   ],
   "source": [
    "import zipfile\n",
    "import os\n",
    "# 解凍したいzipファイルのパス\n",
    "zip_file_path = '../../0_original_datasets/datasets.zip'\n",
    "\n",
    "# 解凍先のディレクトリ\n",
    "folder_path = '../../1_make_dataset/tmp_data_folder/0_tmp_original_data/'\n",
    "\n",
    "if os.path.exists(folder_path):\n",
    "    print(\"既に解凍されたフォルダが存在します。\")\n",
    "    pass\n",
    "else:\n",
    "    # Zipファイルを開いて解凍する\n",
    "    with zipfile.ZipFile(zip_file_path, 'r') as zip_ref:\n",
    "        zip_ref.extractall(folder_path)\n",
    "\n",
    "    print(f'{zip_file_path} を {folder_path} に解凍しました。')"
   ]
  },
  {
   "cell_type": "code",
   "execution_count": 4,
   "metadata": {},
   "outputs": [],
   "source": [
    "olist_order_reviews_dataset_japanese = pd.read_csv(\"../../1_make_dataset/tmp_data_folder/0_tmp_original_data/datasets/olist_order_reviews_dataset.csv\")"
   ]
  },
  {
   "cell_type": "markdown",
   "metadata": {},
   "source": [
    "## データの追加"
   ]
  },
  {
   "cell_type": "code",
   "execution_count": 5,
   "metadata": {},
   "outputs": [],
   "source": [
    "# レビューがポルトガル語で書かれているため、googletransライブラリを用いて翻訳する。\n",
    "# このセルでは、翻訳した文字列を格納するための列を追加する。\n",
    "# すでに列を挿入した状態でinsertするとエラーになってしまうので、try,exceptで対策。\n",
    "try:\n",
    "    olist_order_reviews_dataset_japanese.insert(loc=4, column=\"review_comment_title_japanese\", value=np.nan)\n",
    "    olist_order_reviews_dataset_japanese.insert(loc=6, column=\"review_comment_message_japanese\", value=np.nan)\n",
    "except Exception as e:\n",
    "    # 「カラムがすでに存在しています」というエラーの場合はpassする。\n",
    "    if str(e) == \"cannot insert review_comment_title_japanese, already exists\" or \\\n",
    "        str(e) == \"cannot insert review_comment_message_japanese, already exists\":\n",
    "        pass\n",
    "    # それ以外のエラーは以下メッセージを表示。\n",
    "    else:\n",
    "        raise"
   ]
  },
  {
   "cell_type": "code",
   "execution_count": 6,
   "id": "faf2034e",
   "metadata": {},
   "outputs": [
    {
     "data": {
      "text/plain": [
       "(99224, 9)"
      ]
     },
     "execution_count": 6,
     "metadata": {},
     "output_type": "execute_result"
    }
   ],
   "source": [
    "olist_order_reviews_dataset_japanese.shape"
   ]
  },
  {
   "cell_type": "code",
   "execution_count": 7,
   "id": "ac666391",
   "metadata": {},
   "outputs": [
    {
     "name": "stdout",
     "output_type": "stream",
     "text": [
      "既に翻訳したファイルが存在します。\n"
     ]
    }
   ],
   "source": [
    "# このセルで翻訳実行。\n",
    "# データがnullの場合はpass。レビューがある場合はtext_ptに格納してtext_jaに変換する。\n",
    "# text_jaをreview_comment_title_japanene, review_comment_message_japaneseに格納する。\n",
    "\n",
    "translator = Translator()\n",
    "\n",
    "# 途中でエラーが出るので、エラーの行を格納する。（おそらく翻訳不可の文字が使用されているなどのエラー）\n",
    "error_index_title = {}\n",
    "error_index_message = {}\n",
    "\n",
    "if os.path.isfile(\"./olist_order_reviews_dataset_japanese.csv.zip\"):\n",
    "    print(\"既に翻訳したファイルが存在します。\")\n",
    "else:\n",
    "    for i in range(len(olist_order_reviews_dataset_japanese)):\n",
    "        if pd.notna(olist_order_reviews_dataset_japanese.review_comment_title[i]):\n",
    "            text_pt = olist_order_reviews_dataset_japanese.review_comment_title[i]\n",
    "            try:\n",
    "                text_ja = translator.translate(text=text_pt, src=\"pt\", dest=\"ja\")\n",
    "                olist_order_reviews_dataset_japanese.loc[i, \"review_comment_title_japanese\"] = text_ja.text\n",
    "            except Exception as e:\n",
    "                error_index_title[i] = e\n",
    "        else:\n",
    "            pass\n",
    "        \n",
    "        if pd.notna(olist_order_reviews_dataset_japanese.review_comment_message[i]):\n",
    "            text_pt = olist_order_reviews_dataset_japanese.review_comment_message[i]\n",
    "            try:\n",
    "                text_ja = translator.translate(text=text_pt, src=\"pt\", dest=\"ja\")\n",
    "                olist_order_reviews_dataset_japanese.loc[i, \"review_comment_message_japanese\"] = text_ja.text\n",
    "            except Exception as e:\n",
    "                error_index_message[i] = e\n",
    "        else:\n",
    "            pass\n",
    "    \n",
    "    \n",
    "    olist_order_reviews_dataset_japanese.to_csv(\"./olist_order_reviews_dataset_japanese.csv\", index=False)"
   ]
  }
 ],
 "metadata": {
  "kernelspec": {
   "display_name": "Python 3 (ipykernel)",
   "language": "python",
   "name": "python3"
  },
  "language_info": {
   "codemirror_mode": {
    "name": "ipython",
    "version": 3
   },
   "file_extension": ".py",
   "mimetype": "text/x-python",
   "name": "python",
   "nbconvert_exporter": "python",
   "pygments_lexer": "ipython3",
   "version": "3.11.8"
  }
 },
 "nbformat": 4,
 "nbformat_minor": 5
}
